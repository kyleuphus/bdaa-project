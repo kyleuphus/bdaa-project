{
 "cells": [
  {
   "cell_type": "markdown",
   "id": "2612d25f",
   "metadata": {},
   "source": [
    "import data"
   ]
  },
  {
   "cell_type": "code",
   "execution_count": 3,
   "id": "6e1e8fad",
   "metadata": {},
   "outputs": [],
   "source": [
    "import pandas as pd\n",
    "\n",
    "pd.set_option('display.max_columns', None)\n",
    "pd.set_option('display.max_rows', None)\n",
    "\n",
    "sessions = pd.read_csv('charging_sessions.csv', skipinitialspace=True)\n",
    "stations = pd.read_csv('charging_stations.csv', skipinitialspace=True)\n",
    "customers = pd.read_csv('customers.csv', skipinitialspace=True)\n",
    "districts = pd.read_csv('districts.csv', skipinitialspace=True)\n",
    "\n",
    "\n"
   ]
  },
  {
   "cell_type": "markdown",
   "id": "c28b7d45",
   "metadata": {},
   "source": [
    "initial exploration"
   ]
  },
  {
   "cell_type": "code",
   "execution_count": 10,
   "id": "8c67b3e5",
   "metadata": {},
   "outputs": [
    {
     "name": "stdout",
     "output_type": "stream",
     "text": [
      "Int64Index([0, 1, 2, 3, 4], dtype='int64')\n",
      "(19, 5)\n",
      "<class 'pandas.core.frame.DataFrame'>\n",
      "RangeIndex: 19 entries, 0 to 18\n",
      "Data columns (total 5 columns):\n",
      " #   Column  Non-Null Count  Dtype \n",
      "---  ------  --------------  ----- \n",
      " 0   0       19 non-null     object\n",
      " 1   1       19 non-null     object\n",
      " 2   2       19 non-null     object\n",
      " 3   3       19 non-null     object\n",
      " 4   4       19 non-null     object\n",
      "dtypes: object(5)\n",
      "memory usage: 892.0+ bytes\n",
      "                    0        1     2   3    4\n",
      "count              19       19    19  19   19\n",
      "unique             19        4    17  17   17\n",
      "top     district_name  Low-Mid  1800  55  360\n",
      "freq                1        9     2   2    2\n"
     ]
    }
   ],
   "source": [
    "print(districts.columns)\n",
    "print(districts.shape)\n",
    "districts.head()\n",
    "districts.info()\n",
    "print(districts.describe())"
   ]
  },
  {
   "cell_type": "markdown",
   "id": "346ce76f",
   "metadata": {},
   "source": [
    "identifying unknown values"
   ]
  },
  {
   "cell_type": "code",
   "execution_count": 22,
   "id": "d2b9c39c",
   "metadata": {},
   "outputs": [
    {
     "name": "stdout",
     "output_type": "stream",
     "text": [
      "C1537    32\n",
      "C5499    30\n",
      "C4803    30\n",
      "C1113    29\n",
      "C3387    28\n",
      "         ..\n",
      "C1346     3\n",
      "C3659     3\n",
      "C5522     3\n",
      "C4431     2\n",
      "C2577     2\n",
      "Name: customer_id, Length: 8000, dtype: int64\n"
     ]
    }
   ],
   "source": [
    "print(sessions['customer_id'].value_counts(dropna=False))"
   ]
  },
  {
   "cell_type": "markdown",
   "id": "d1bd93d2",
   "metadata": {},
   "source": [
    "cleaning up data"
   ]
  },
  {
   "cell_type": "code",
   "execution_count": 24,
   "id": "cd5e9453",
   "metadata": {},
   "outputs": [
    {
     "name": "stdout",
     "output_type": "stream",
     "text": [
      "session_id            0\n",
      "customer_id           0\n",
      "station_id            0\n",
      "session_start_time    0\n",
      "kwh_charged           0\n",
      "cost_per_kwh          0\n",
      "total_cost            0\n",
      "dtype: int64\n",
      "station_id       0\n",
      "district_name    0\n",
      "income_tier      0\n",
      "operator_name    0\n",
      "plugs_count      0\n",
      "latitude         0\n",
      "longitude        0\n",
      "dtype: int64\n",
      "customer_id             0\n",
      "income_tier             0\n",
      "car_model               0\n",
      "battery_capacity_kwh    0\n",
      "dtype: int64\n",
      "district_name                  0\n",
      "income_tier                    0\n",
      "projected_evs                  0\n",
      "projected_plugs                0\n",
      "projected_regular_customers    0\n",
      "dtype: int64\n"
     ]
    }
   ],
   "source": [
    "# replacing missing values with 'Unknown'\n",
    "sessions.fillna('Unknown', inplace=True)\n",
    "stations.fillna('Unknown', inplace=True)\n",
    "customers.fillna('Unknown', inplace=True)\n",
    "districts.fillna('Unknown', inplace=True)\n",
    "\n",
    "print(sessions.isna().sum())\n",
    "print(stations.isna().sum())\n",
    "print(customers.isna().sum())\n",
    "print(districts.isna().sum())\n"
   ]
  },
  {
   "cell_type": "markdown",
   "id": "94376624",
   "metadata": {},
   "source": [
    "categorical/binary columns"
   ]
  },
  {
   "cell_type": "code",
   "execution_count": 28,
   "id": "b26ba010",
   "metadata": {},
   "outputs": [
    {
     "name": "stdout",
     "output_type": "stream",
     "text": [
      "Column: session_id\n",
      "S00001     1\n",
      "S75998     1\n",
      "S76009     1\n",
      "S76008     1\n",
      "S76007     1\n",
      "          ..\n",
      "S37996     1\n",
      "S37995     1\n",
      "S37994     1\n",
      "S37993     1\n",
      "S114000    1\n",
      "Name: session_id, Length: 114000, dtype: int64\n",
      "\n",
      "Column: customer_id\n",
      "C1537    32\n",
      "C5499    30\n",
      "C4803    30\n",
      "C1113    29\n",
      "C3387    28\n",
      "         ..\n",
      "C1346     3\n",
      "C3659     3\n",
      "C5522     3\n",
      "C4431     2\n",
      "C2577     2\n",
      "Name: customer_id, Length: 8000, dtype: int64\n",
      "\n",
      "Column: session_start_time\n",
      "2025-10-10 09:40:00    8\n",
      "2025-10-26 09:32:00    8\n",
      "2025-08-14 14:43:00    7\n",
      "2025-09-17 12:39:00    7\n",
      "2025-10-19 12:40:00    7\n",
      "                      ..\n",
      "2025-09-27 07:00:00    1\n",
      "2025-09-01 10:56:00    1\n",
      "2025-11-07 15:44:00    1\n",
      "2025-09-11 13:37:00    1\n",
      "2025-09-22 21:36:00    1\n",
      "Name: session_start_time, Length: 72084, dtype: int64\n",
      "\n"
     ]
    }
   ],
   "source": [
    "#finding any weird category values\n",
    "for col in sessions.select_dtypes(include='object').columns:\n",
    "    print(f\"Column: {col}\")\n",
    "    print(sessions[col].value_counts())\n",
    "    print()\n",
    "\n",
    "#finding any weird category values\n"
   ]
  },
  {
   "cell_type": "markdown",
   "id": "52e8ba51",
   "metadata": {},
   "source": [
    "removing duplicates"
   ]
  },
  {
   "cell_type": "code",
   "execution_count": 29,
   "id": "86b8237a",
   "metadata": {},
   "outputs": [
    {
     "name": "stdout",
     "output_type": "stream",
     "text": [
      "sessions duplicates: 0\n",
      "stations duplicates: 0\n",
      "customers duplicates: 0\n",
      "districts duplicates: 0\n"
     ]
    }
   ],
   "source": [
    "sessionsDuplicates = sessions.duplicated().sum()\n",
    "stationsDuplicates = stations.duplicated().sum()\n",
    "customersDuplicates = customers.duplicated().sum()\n",
    "districtsDuplicates = districts.duplicated().sum()\n",
    "\n",
    "print(f\"sessions duplicates: {sessionsDuplicates}\")\n",
    "print(f\"stations duplicates: {stationsDuplicates}\")\n",
    "print(f\"customers duplicates: {customersDuplicates}\")\n",
    "print(f\"districts duplicates: {districtsDuplicates}\")\n"
   ]
  },
  {
   "cell_type": "markdown",
   "id": "ce2bae00",
   "metadata": {},
   "source": [
    "data type conversions"
   ]
  },
  {
   "cell_type": "code",
   "execution_count": 30,
   "id": "13bb5c42",
   "metadata": {},
   "outputs": [
    {
     "name": "stdout",
     "output_type": "stream",
     "text": [
      "session_id             object\n",
      "customer_id            object\n",
      "station_id              int64\n",
      "session_start_time     object\n",
      "kwh_charged           float64\n",
      "cost_per_kwh          float64\n",
      "total_cost            float64\n",
      "dtype: object\n",
      "station_id         int64\n",
      "district_name     object\n",
      "income_tier       object\n",
      "operator_name     object\n",
      "plugs_count        int64\n",
      "latitude         float64\n",
      "longitude        float64\n",
      "dtype: object\n",
      "customer_id              object\n",
      "income_tier              object\n",
      "car_model                object\n",
      "battery_capacity_kwh    float64\n",
      "dtype: object\n",
      "district_name                  object\n",
      "income_tier                    object\n",
      "projected_evs                   int64\n",
      "projected_plugs                 int64\n",
      "projected_regular_customers     int64\n",
      "dtype: object\n"
     ]
    }
   ],
   "source": [
    "print(sessions.dtypes)\n",
    "print(stations.dtypes)\n",
    "print(customers.dtypes)\n",
    "print(districts.dtypes)"
   ]
  }
 ],
 "metadata": {
  "kernelspec": {
   "display_name": "Python 3",
   "language": "python",
   "name": "python3"
  },
  "language_info": {
   "codemirror_mode": {
    "name": "ipython",
    "version": 3
   },
   "file_extension": ".py",
   "mimetype": "text/x-python",
   "name": "python",
   "nbconvert_exporter": "python",
   "pygments_lexer": "ipython3",
   "version": "3.11.13"
  }
 },
 "nbformat": 4,
 "nbformat_minor": 5
}
